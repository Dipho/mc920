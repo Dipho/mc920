{
 "cells": [
  {
   "cell_type": "markdown",
   "metadata": {},
   "source": [
    "# Trabalho 1 MC920 - Daniel Helu Prestes de Oliveira"
   ]
  },
  {
   "cell_type": "markdown",
   "metadata": {},
   "source": [
    "## Bibliotecas"
   ]
  },
  {
   "cell_type": "code",
   "execution_count": 1,
   "metadata": {},
   "outputs": [],
   "source": [
    "import sys\n",
    "import cv2\n",
    "import numpy as np\n",
    "import matplotlib.pyplot as plt"
   ]
  },
  {
   "cell_type": "markdown",
   "metadata": {},
   "source": [
    "## Recepção dos Argumentos e Funções Comuns"
   ]
  },
  {
   "cell_type": "code",
   "execution_count": 14,
   "metadata": {},
   "outputs": [],
   "source": [
    "#Recebe o argumento do nome da imagem\n",
    "imgsource = sys.argv[1]\n",
    "\n",
    "#Ler imagem\n",
    "def readimg(imgsource):\n",
    "    return cv2.imread(imgsource)\n",
    "\n",
    "#Mostrar imagem\n",
    "def showimg(img):\n",
    "    cv2.imshow(\"Display image\",img)\n",
    "    cv2.waitKey(0)\n",
    "    cv2.destroyAllWindows()\n",
    "    \n",
    "#Criar imagem destino\n",
    "def createimg(imgsource, flag):\n",
    "    strSplit = imgsource.split('.')\n",
    "    imgdest = strSplit[0] + flag + '.' +  strSplit[1]\n",
    "    return imgdest\n",
    "    \n",
    "#Salvar imagem\n",
    "def writeimg(img, imgdest):\n",
    "    cv2.imwrite(imgdest,img)\n",
    "    \n",
    "#Converter RGB para Gray\n",
    "def conv_RGB2Gray(img):\n",
    "    return cv2.cvtColor(img, cv2.COLOR_RGB2GRAY)\n",
    "\n",
    "#Gerar contornos\n",
    "def givecontours(img):\n",
    "    ret,thresh = cv2.threshold(img,0,255,cv2.THRESH_BINARY_INV)\n",
    "    img, contours, hierarchy = cv2.findContours(thresh,cv2.RETR_EXTERNAL,cv2.CHAIN_APPROX_SIMPLE)\n",
    "    return img, contours"
   ]
  },
  {
   "cell_type": "markdown",
   "metadata": {},
   "source": [
    "## 1.1 Transformação de Cores"
   ]
  },
  {
   "cell_type": "code",
   "execution_count": 5,
   "metadata": {},
   "outputs": [],
   "source": [
    "img = readimg(imgsource)\n",
    "img = cv2.cvtColor(img, cv2.COLOR_RGB2GRAY)\n",
    "showimg(img)\n",
    "imgdest = createimg(imgsource, 'gray')\n",
    "writeimg(img, imgdest)"
   ]
  },
  {
   "cell_type": "markdown",
   "metadata": {},
   "source": [
    "## 1.2 Contorno dos Objetos"
   ]
  },
  {
   "cell_type": "code",
   "execution_count": null,
   "metadata": {},
   "outputs": [],
   "source": [
    "img = readimg(imgsource)\n",
    "gray = conv_RGB2Gray(img)\n",
    "ret,thresh = cv2.threshold(gray,0,255,cv2.THRESH_BINARY_INV)\n",
    "showimg(thresh)\n",
    "imgdest = createimg(imgsource, 'contour')\n",
    "writeimg(thresh, imgdest)"
   ]
  },
  {
   "cell_type": "markdown",
   "metadata": {},
   "source": [
    "## 1.3 Extração de Propriedades dos Objetos"
   ]
  },
  {
   "cell_type": "code",
   "execution_count": 21,
   "metadata": {},
   "outputs": [
    {
     "name": "stdout",
     "output_type": "stream",
     "text": [
      "Numero de regioes: 17\n",
      "regiao: 0 \t\tcentroide: (360, 312) \t\tperimetro: 62 \t\tarea: 240\n",
      "regiao: 1 \t\tcentroide: (108, 296) \t\tperimetro: 190 \t\tarea: 2256\n",
      "regiao: 2 \t\tcentroide: (328, 265) \t\tperimetro: 188 \t\tarea: 2209\n",
      "regiao: 3 \t\tcentroide: (265, 234) \t\tperimetro: 62 \t\tarea: 240\n",
      "regiao: 4 \t\tcentroide: (470, 202) \t\tperimetro: 64 \t\tarea: 256\n",
      "regiao: 5 \t\tcentroide: (533, 202) \t\tperimetro: 190 \t\tarea: 2256\n",
      "regiao: 6 \t\tcentroide: (171, 202) \t\tperimetro: 190 \t\tarea: 2256\n",
      "regiao: 7 \t\tcentroide: (391, 171) \t\tperimetro: 64 \t\tarea: 256\n",
      "regiao: 8 \t\tcentroide: (533, 139) \t\tperimetro: 64 \t\tarea: 256\n",
      "regiao: 9 \t\tcentroide: (454, 155) \t\tperimetro: 190 \t\tarea: 2256\n",
      "regiao: 10 \t\tcentroide: (454, 108) \t\tperimetro: 64 \t\tarea: 256\n",
      "regiao: 11 \t\tcentroide: (375, 92) \t\tperimetro: 62 \t\tarea: 240\n",
      "regiao: 12 \t\tcentroide: (29, 107) \t\tperimetro: 188 \t\tarea: 2209\n",
      "regiao: 13 \t\tcentroide: (92, 60) \t\tperimetro: 62 \t\tarea: 240\n",
      "regiao: 14 \t\tcentroide: (139, 29) \t\tperimetro: 62 \t\tarea: 240\n",
      "regiao: 15 \t\tcentroide: (422, 29) \t\tperimetro: 190 \t\tarea: 2256\n",
      "regiao: 16 \t\tcentroide: (202, 29) \t\tperimetro: 190 \t\tarea: 2256\n"
     ]
    }
   ],
   "source": [
    "img = readimg(imgsource)\n",
    "gray = conv_RGB2Gray(img)\n",
    "gray, contours = givecontours(gray)\n",
    "\n",
    "print (\"Numero de regioes:\", len(contours))\n",
    "for x in range(0, len(contours)):\n",
    "    M = cv2.moments(contours[x])\n",
    "    cx = int(M['m10']/M['m00'])\n",
    "    cy = int(M['m01']/M['m00'])\n",
    "    centroide = (cx,cy)\n",
    "    print(\"regiao:\", x, \"\\t\\tcentroide:\", centroide, \"\\t\\tperimetro:\", int(round(cv2.arcLength(contours[x], True),0)), \"\\t\\tarea:\", int(cv2.contourArea(contours[x])))\n",
    "    origem = (cx-3, cy+2)\n",
    "    cv2.putText(img, str(x), origem, cv2.FONT_HERSHEY_SIMPLEX , 0.25,(0,0,0))\n",
    "\n",
    "showimg(img)\n",
    "imgdest = createimg(imgsource, 'region')\n",
    "writeimg(img, imgdest)"
   ]
  },
  {
   "cell_type": "markdown",
   "metadata": {},
   "source": [
    "## 1.4 Histograma de Area dos Objetos"
   ]
  },
  {
   "cell_type": "code",
   "execution_count": 22,
   "metadata": {
    "scrolled": true
   },
   "outputs": [
    {
     "name": "stdout",
     "output_type": "stream",
     "text": [
      "Numero de Regioes Pequenas: 9\n",
      "Numero de Regioes Medias: 8\n",
      "Numero de Regioes Grandes: 0\n"
     ]
    },
    {
     "data": {
      "image/png": "[encoded data removed]",
      "text/plain": [
       "<matplotlib.figure.Figure at 0x193cb0817f0>"
      ]
     },
     "metadata": {},
     "output_type": "display_data"
    }
   ],
   "source": [
    "img = readimg(imgsource)\n",
    "gray = conv_RGB2Gray(img)\n",
    "gray, contours = givecontours(gray)\n",
    "array = []\n",
    "peq = 0\n",
    "med = 0\n",
    "grd = 0\n",
    "for x in range(0, len(contours)):\n",
    "    area = int(cv2.contourArea(contours[x]))\n",
    "    if(area < 1500):\n",
    "        peq += 1\n",
    "    elif(area < 3000):\n",
    "        med += 1\n",
    "    else:\n",
    "        grd += 1\n",
    "    array.append(area)\n",
    "\n",
    "print ('Numero de Regioes Pequenas:', peq)\n",
    "print ('Numero de Regioes Medias:', med)\n",
    "print ('Numero de Regioes Grandes:', grd)\n",
    "    \n",
    "plt.hist(array, 3, facecolor='blue', ec='black')\n",
    "\n",
    "plt.xlabel('Histograma de Area dos Objetos')\n",
    "plt.ylabel('Frequencia')\n",
    "plt.axis([0, 4500, 0, 55])\n",
    "plt.show()"
   ]
  }
 ],
 "metadata": {
  "kernelspec": {
   "display_name": "Python 3",
   "language": "python",
   "name": "python3"
  },
  "language_info": {
   "codemirror_mode": {
    "name": "ipython",
    "version": 3
   },
   "file_extension": ".py",
   "mimetype": "text/x-python",
   "name": "python",
   "nbconvert_exporter": "python",
   "pygments_lexer": "ipython3",
   "version": "3.6.4"
  }
 },
 "nbformat": 4,
 "nbformat_minor": 2
}
